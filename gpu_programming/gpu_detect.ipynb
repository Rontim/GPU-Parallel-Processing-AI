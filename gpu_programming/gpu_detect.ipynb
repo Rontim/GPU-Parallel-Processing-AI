{
  "nbformat": 4,
  "nbformat_minor": 0,
  "metadata": {
    "colab": {
      "provenance": [],
      "gpuType": "T4",
      "authorship_tag": "ABX9TyNNmUmkZ+C9FbUvYceBZw0U",
      "include_colab_link": true
    },
    "kernelspec": {
      "name": "python3",
      "display_name": "Python 3"
    },
    "language_info": {
      "name": "python"
    },
    "accelerator": "GPU"
  },
  "cells": [
    {
      "cell_type": "markdown",
      "metadata": {
        "id": "view-in-github",
        "colab_type": "text"
      },
      "source": [
        "<a href=\"https://colab.research.google.com/github/Rontim/GPU-Parallel-Processing-AI/blob/main/gpu_programming/gpu_detect.ipynb\" target=\"_parent\"><img src=\"https://colab.research.google.com/assets/colab-badge.svg\" alt=\"Open In Colab\"/></a>"
      ]
    },
    {
      "cell_type": "code",
      "execution_count": null,
      "metadata": {
        "id": "dRhHs44gnPt1"
      },
      "outputs": [],
      "source": [
        "import torch"
      ]
    },
    {
      "cell_type": "markdown",
      "source": [
        "# ==========================================\n",
        "# 🧠 Phase 1: GPU Detection & Benchmarking\n",
        "# =========================================="
      ],
      "metadata": {
        "id": "jNhqw_xF1w1_"
      }
    },
    {
      "cell_type": "code",
      "source": [
        "import numpy as np\n",
        "import cupy as cp\n",
        "import time"
      ],
      "metadata": {
        "id": "pLi-AQeS16VY"
      },
      "execution_count": 1,
      "outputs": []
    },
    {
      "cell_type": "code",
      "source": [
        "def detect_gpu():\n",
        "    num_gpus = cp.cuda.runtime.getDeviceCount()\n",
        "    print(f\"\\nNumber of CUDA-enabled GPUs detected: {num_gpus}\")\n",
        "    for i in range(num_gpus):\n",
        "        props = cp.cuda.runtime.getDeviceProperties(i)\n",
        "        print(f\"\\nGPU {i}: {props['name'].decode()}\")\n",
        "        for key, val in props.items():\n",
        "            if isinstance(val, bytes):\n",
        "              try:\n",
        "                val = val.decode()\n",
        "              except UnicodeDecodeError:\n",
        "                val = val.decode('latin-1')\n",
        "              except:\n",
        "                continue\n",
        "            print(f\"{key}: {val}\")"
      ],
      "metadata": {
        "id": "R2qDdkBT2aU4"
      },
      "execution_count": 8,
      "outputs": []
    },
    {
      "cell_type": "code",
      "source": [
        "# Detect GPU\n",
        "detect_gpu()"
      ],
      "metadata": {
        "collapsed": true,
        "id": "UHPj7lti2mUr",
        "outputId": "4f3bf5b5-492d-4d39-90c2-139673372c12",
        "colab": {
          "base_uri": "https://localhost:8080/"
        }
      },
      "execution_count": 9,
      "outputs": [
        {
          "output_type": "stream",
          "name": "stdout",
          "text": [
            "\n",
            "Number of CUDA-enabled GPUs detected: 1\n",
            "\n",
            "GPU 0: Tesla T4\n",
            "name: Tesla T4\n",
            "totalGlobalMem: 15828320256\n",
            "sharedMemPerBlock: 49152\n",
            "regsPerBlock: 65536\n",
            "warpSize: 32\n",
            "maxThreadsPerBlock: 1024\n",
            "maxThreadsDim: (1024, 1024, 64)\n",
            "maxGridSize: (2147483647, 65535, 65535)\n",
            "clockRate: 1590000\n",
            "totalConstMem: 65536\n",
            "major: 7\n",
            "minor: 5\n",
            "textureAlignment: 512\n",
            "texturePitchAlignment: 32\n",
            "multiProcessorCount: 40\n",
            "kernelExecTimeoutEnabled: 0\n",
            "integrated: 0\n",
            "canMapHostMemory: 1\n",
            "computeMode: 0\n",
            "maxTexture1D: 131072\n",
            "maxTexture2D: (131072, 65536)\n",
            "maxTexture3D: (16384, 16384, 16384)\n",
            "concurrentKernels: 1\n",
            "ECCEnabled: 1\n",
            "pciBusID: 0\n",
            "pciDeviceID: 4\n",
            "pciDomainID: 0\n",
            "tccDriver: 0\n",
            "memoryClockRate: 5001000\n",
            "memoryBusWidth: 256\n",
            "l2CacheSize: 4194304\n",
            "maxThreadsPerMultiProcessor: 1024\n",
            "isMultiGpuBoard: 0\n",
            "cooperativeLaunch: 1\n",
            "cooperativeMultiDeviceLaunch: 1\n",
            "deviceOverlap: 1\n",
            "maxTexture1DMipmap: 32768\n",
            "maxTexture1DLinear: 268435456\n",
            "maxTexture1DLayered: (32768, 2048)\n",
            "maxTexture2DMipmap: (32768, 32768)\n",
            "maxTexture2DLinear: (131072, 65000, 2097120)\n",
            "maxTexture2DLayered: (32768, 32768, 2048)\n",
            "maxTexture2DGather: (32768, 32768)\n",
            "maxTexture3DAlt: (8192, 8192, 32768)\n",
            "maxTextureCubemap: 32768\n",
            "maxTextureCubemapLayered: (32768, 2046)\n",
            "maxSurface1D: 32768\n",
            "maxSurface1DLayered: (32768, 2048)\n",
            "maxSurface2D: (131072, 65536)\n",
            "maxSurface2DLayered: (32768, 32768, 2048)\n",
            "maxSurface3D: (16384, 16384, 16384)\n",
            "maxSurfaceCubemap: 32768\n",
            "maxSurfaceCubemapLayered: (32768, 2046)\n",
            "surfaceAlignment: 512\n",
            "asyncEngineCount: 3\n",
            "unifiedAddressing: 1\n",
            "streamPrioritiesSupported: 1\n",
            "globalL1CacheSupported: 1\n",
            "localL1CacheSupported: 1\n",
            "sharedMemPerMultiprocessor: 65536\n",
            "regsPerMultiprocessor: 65536\n",
            "managedMemory: 1\n",
            "multiGpuBoardGroupID: 0\n",
            "hostNativeAtomicSupported: 0\n",
            "singleToDoublePrecisionPerfRatio: 32\n",
            "pageableMemoryAccess: 0\n",
            "concurrentManagedAccess: 1\n",
            "computePreemptionSupported: 1\n",
            "canUseHostPointerForRegisteredMem: 1\n",
            "sharedMemPerBlockOptin: 65536\n",
            "pageableMemoryAccessUsesHostPageTables: 0\n",
            "directManagedMemAccessFromHost: 0\n",
            "uuid: \n",
            "ç£è4* ïÖ3¤Çµ\u001b\n",
            "luid: \n",
            "luidDeviceNodeMask: 0\n",
            "persistingL2CacheMaxSize: 0\n",
            "maxBlocksPerMultiProcessor: 16\n",
            "accessPolicyMaxWindowSize: 0\n",
            "reservedSharedMemPerBlock: 0\n"
          ]
        }
      ]
    },
    {
      "cell_type": "markdown",
      "source": [
        "# --------------------------------------------\n",
        "# 🧪 CPU vs GPU Benchmark\n",
        "# --------------------------------------------"
      ],
      "metadata": {
        "id": "bQiXtdY74jn7"
      }
    },
    {
      "cell_type": "code",
      "source": [
        "def benchmark_matrix_multiplication(n=8000):\n",
        "    print(\"\\n⚙️ Running matrix multiplication of size\", n)\n",
        "\n",
        "    # CPU version (NumPy)\n",
        "    A_cpu = np.random.rand(n, n)\n",
        "    B_cpu = np.random.rand(n, n)\n",
        "\n",
        "    start_cpu = time.time()\n",
        "    C_cpu = A_cpu @ B_cpu\n",
        "    cpu_time = time.time() - start_cpu\n",
        "    print(f\"🧠 CPU (NumPy) time: {cpu_time:.4f} seconds\")\n",
        "\n",
        "    # GPU version (CuPy)\n",
        "    A_gpu = cp.asarray(A_cpu)\n",
        "    B_gpu = cp.asarray(B_cpu)\n",
        "\n",
        "    cp.cuda.Device(0).synchronize()\n",
        "    start_gpu = time.time()\n",
        "    C_gpu = A_gpu @ B_gpu\n",
        "    cp.cuda.Device(0).synchronize()\n",
        "    gpu_time = time.time() - start_gpu\n",
        "    print(f\"⚡ GPU (CuPy) time: {gpu_time:.4f} seconds\")\n",
        "\n",
        "    # Accuracy check\n",
        "    diff = np.abs(cp.asnumpy(C_gpu) - C_cpu).max()\n",
        "    print(f\"🔬 Max difference between CPU and GPU results: {diff}\")\n"
      ],
      "metadata": {
        "id": "TWKdkTJQ4iye"
      },
      "execution_count": 18,
      "outputs": []
    },
    {
      "cell_type": "code",
      "source": [
        "benchmark_matrix_multiplication()"
      ],
      "metadata": {
        "id": "SFJKdszG4xaP",
        "outputId": "1e8679aa-13da-4df6-f8ce-16f9f4cafcb6",
        "colab": {
          "base_uri": "https://localhost:8080/"
        }
      },
      "execution_count": 19,
      "outputs": [
        {
          "output_type": "stream",
          "name": "stdout",
          "text": [
            "\n",
            "⚙️ Running matrix multiplication of size 8000\n",
            "🧠 CPU (NumPy) time: 18.0746 seconds\n",
            "⚡ GPU (CuPy) time: 4.1856 seconds\n",
            "🔬 Max difference between CPU and GPU results: 2.6147972675971687e-11\n"
          ]
        }
      ]
    }
  ]
}