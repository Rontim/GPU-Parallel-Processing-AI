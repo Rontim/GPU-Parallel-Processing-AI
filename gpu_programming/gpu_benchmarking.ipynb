{
  "nbformat": 4,
  "nbformat_minor": 0,
  "metadata": {
    "colab": {
      "provenance": [],
      "gpuType": "T4",
      "authorship_tag": "ABX9TyPBDKGpNDSJPHrOV6YvDdr6",
      "include_colab_link": true
    },
    "kernelspec": {
      "name": "python3",
      "display_name": "Python 3"
    },
    "language_info": {
      "name": "python"
    },
    "accelerator": "GPU"
  },
  "cells": [
    {
      "cell_type": "markdown",
      "metadata": {
        "id": "view-in-github",
        "colab_type": "text"
      },
      "source": [
        "<a href=\"https://colab.research.google.com/github/Rontim/GPU-Parallel-Processing-AI/blob/main/gpu_programming/gpu_benchmarking.ipynb\" target=\"_parent\"><img src=\"https://colab.research.google.com/assets/colab-badge.svg\" alt=\"Open In Colab\"/></a>"
      ]
    },
    {
      "cell_type": "markdown",
      "source": [
        "# 🚀 Phase 2: GPU Benchmarking with CuPy"
      ],
      "metadata": {
        "id": "JPEUGXCv8mVw"
      }
    },
    {
      "cell_type": "code",
      "execution_count": 1,
      "metadata": {
        "id": "hQmvLIy88aRn"
      },
      "outputs": [],
      "source": [
        "# 🔧 Setup\n",
        "import numpy as np\n",
        "import cupy as cp\n",
        "import time"
      ]
    },
    {
      "cell_type": "code",
      "source": [
        "# Confirm GPU availability\n",
        "gpu_count = cp.cuda.runtime.getDeviceCount()\n",
        "print(f\"Number of CUDA-enabled GPUs detected: {gpu_count}\")\n",
        "for i in range(gpu_count):\n",
        "    print(f\"GPU {i}: {cp.cuda.runtime.getDeviceProperties(i)['name'].decode()}\")"
      ],
      "metadata": {
        "colab": {
          "base_uri": "https://localhost:8080/"
        },
        "id": "GiWVIcpQ9P7a",
        "outputId": "02264287-21bd-40ae-a06a-59a056ba5bf4"
      },
      "execution_count": 2,
      "outputs": [
        {
          "output_type": "stream",
          "name": "stdout",
          "text": [
            "Number of CUDA-enabled GPUs detected: 1\n",
            "GPU 0: Tesla T4\n"
          ]
        }
      ]
    },
    {
      "cell_type": "markdown",
      "source": [
        "## 🔬 Benchmark 1: Matrix Multiplication"
      ],
      "metadata": {
        "id": "nVtAB16OZNpE"
      }
    },
    {
      "cell_type": "code",
      "source": [
        "# Set size for benchmark\n",
        "N = 100\n"
      ],
      "metadata": {
        "id": "6Tk-PDkOZGIw"
      },
      "execution_count": 25,
      "outputs": []
    },
    {
      "cell_type": "code",
      "source": [
        "# Generate random matrices\n",
        "A_cpu = np.random.rand(N, N).astype(np.float32)\n",
        "B_cpu = np.random.rand(N, N).astype(np.float32)"
      ],
      "metadata": {
        "id": "XXU0WxN6ZZ29"
      },
      "execution_count": 26,
      "outputs": []
    },
    {
      "cell_type": "code",
      "source": [
        "# NumPy (CPU)\n",
        "start = time.time()\n",
        "C_cpu = np.dot(A_cpu, B_cpu)\n",
        "cpu_time = time.time() - start\n",
        "print(f\"CPU (NumPy) time: {cpu_time:.4f} seconds\")"
      ],
      "metadata": {
        "colab": {
          "base_uri": "https://localhost:8080/"
        },
        "id": "RhPukHnQZdfM",
        "outputId": "994211ea-d38f-4b93-ffaa-a4de35c5778f"
      },
      "execution_count": 27,
      "outputs": [
        {
          "output_type": "stream",
          "name": "stdout",
          "text": [
            "CPU (NumPy) time: 0.0004 seconds\n"
          ]
        }
      ]
    },
    {
      "cell_type": "code",
      "source": [
        "# CuPy (GPU)\n",
        "A_gpu = cp.array(A_cpu)\n",
        "B_gpu = cp.array(B_cpu)"
      ],
      "metadata": {
        "id": "OkqtscbfZiES"
      },
      "execution_count": 28,
      "outputs": []
    },
    {
      "cell_type": "code",
      "source": [
        "# Warm up GPU\n",
        "_ = cp.dot(A_gpu, B_gpu)\n"
      ],
      "metadata": {
        "id": "OMUsP4NCZmxL"
      },
      "execution_count": 30,
      "outputs": []
    },
    {
      "cell_type": "code",
      "source": [
        "# Benchmark\n",
        "cp.cuda.Device(0).synchronize()\n",
        "start = time.time()\n",
        "C_gpu = cp.dot(A_gpu, B_gpu)\n",
        "cp.cuda.Device(0).synchronize()\n",
        "gpu_time = time.time() - start\n",
        "print(f\"GPU (CuPy) time: {gpu_time:.4f} seconds\")"
      ],
      "metadata": {
        "colab": {
          "base_uri": "https://localhost:8080/"
        },
        "id": "flOYVi1YZqvp",
        "outputId": "648d93aa-40f6-47bf-8d49-486d9c262dab"
      },
      "execution_count": 31,
      "outputs": [
        {
          "output_type": "stream",
          "name": "stdout",
          "text": [
            "GPU (CuPy) time: 0.0004 seconds\n"
          ]
        }
      ]
    },
    {
      "cell_type": "code",
      "source": [
        "# Compare results\n",
        "C_gpu_cpu = cp.asnumpy(C_gpu)\n",
        "max_diff = np.max(np.abs(C_cpu - C_gpu_cpu))\n",
        "print(f\"Max difference between CPU and GPU results: {max_diff}\")"
      ],
      "metadata": {
        "colab": {
          "base_uri": "https://localhost:8080/"
        },
        "id": "gZAPJjUWZu2B",
        "outputId": "c7441d5c-b19d-4fcf-b5ab-449fda991e04"
      },
      "execution_count": 32,
      "outputs": [
        {
          "output_type": "stream",
          "name": "stdout",
          "text": [
            "Max difference between CPU and GPU results: 1.71661376953125e-05\n"
          ]
        }
      ]
    },
    {
      "cell_type": "markdown",
      "source": [
        "## 🔬 Benchmark 2: Element-wise Operations"
      ],
      "metadata": {
        "id": "DEnFEKGgZ2_t"
      }
    },
    {
      "cell_type": "code",
      "source": [
        "# Large array\n",
        "N = 10_000_000\n",
        "array_cpu = np.random.rand(N).astype(np.float32)\n",
        "array_gpu = cp.array(array_cpu)"
      ],
      "metadata": {
        "id": "rgUYmcPJZ69j"
      },
      "execution_count": 21,
      "outputs": []
    },
    {
      "cell_type": "code",
      "source": [
        "# NumPy (CPU)\n",
        "start = time.time()\n",
        "result_cpu = np.sin(array_cpu) + np.exp(array_cpu) * np.log(array_cpu + 1)\n",
        "cpu_time = time.time() - start\n",
        "print(f\"Elementwise CPU time: {cpu_time:.4f} seconds\")\n"
      ],
      "metadata": {
        "colab": {
          "base_uri": "https://localhost:8080/"
        },
        "id": "jwq7hE0ma-2x",
        "outputId": "c2f4d6a0-3a1b-4835-a89f-9ab7774d94a6"
      },
      "execution_count": 22,
      "outputs": [
        {
          "output_type": "stream",
          "name": "stdout",
          "text": [
            "Elementwise CPU time: 0.0853 seconds\n"
          ]
        }
      ]
    },
    {
      "cell_type": "code",
      "source": [
        "# CuPy (GPU)\n",
        "cp.cuda.Device(0).synchronize()\n",
        "start = time.time()\n",
        "result_gpu = cp.sin(array_gpu) + cp.exp(array_gpu) * cp.log(array_gpu + 1)\n",
        "cp.cuda.Device(0).synchronize()\n",
        "gpu_time = time.time() - start\n",
        "print(f\"Elementwise GPU time: {gpu_time:.4f} seconds\")"
      ],
      "metadata": {
        "colab": {
          "base_uri": "https://localhost:8080/"
        },
        "id": "s3fREJF7bEX-",
        "outputId": "1fe4e8e5-63f0-4f4c-aceb-f30b6fe224e4"
      },
      "execution_count": 23,
      "outputs": [
        {
          "output_type": "stream",
          "name": "stdout",
          "text": [
            "Elementwise GPU time: 0.0028 seconds\n"
          ]
        }
      ]
    },
    {
      "cell_type": "code",
      "source": [
        "# Compare results\n",
        "result_gpu_cpu = cp.asnumpy(result_gpu)\n",
        "max_diff = np.max(np.abs(result_cpu - result_gpu_cpu))\n",
        "print(f\"Max difference in elementwise operation: {max_diff}\")"
      ],
      "metadata": {
        "colab": {
          "base_uri": "https://localhost:8080/"
        },
        "id": "_ixx7BNAbH4K",
        "outputId": "9de2072a-e35c-4faa-f9de-0aab0e176d4e"
      },
      "execution_count": 24,
      "outputs": [
        {
          "output_type": "stream",
          "name": "stdout",
          "text": [
            "Max difference in elementwise operation: 7.152557373046875e-07\n"
          ]
        }
      ]
    }
  ]
}