{
  "cells": [
    {
      "cell_type": "markdown",
      "metadata": {
        "id": "eL-O_WVEq6mz"
      },
      "source": [
        "# MNIST GAN from Scratch (with GPU Acceleration)\n",
        "## Objective:\n",
        "To demonstrate the power of GPU-accelerated parallel processing using a Generative Adversarial Network (GAN) trained on the MNIST dataset. We'll generate synthetic images of handwritten digits."
      ]
    },
    {
      "cell_type": "markdown",
      "metadata": {
        "id": "Qp9AVhDRq6m1"
      },
      "source": [
        "## Setup\n",
        "We will use TensorFlow which automatically utilizes the GPU if any"
      ]
    },
    {
      "cell_type": "code",
      "execution_count": 2,
      "metadata": {
        "id": "34s0GmXRq6m2"
      },
      "outputs": [],
      "source": [
        "import numpy as np\n",
        "import matplotlib.pyplot as plt\n",
        "import os\n",
        "import tensorflow as tf\n",
        "from tensorflow.keras.datasets import mnist\n",
        "from tensorflow.keras.models import Sequential, Model\n",
        "from tensorflow.keras.layers import Dense, LeakyReLU, BatchNormalization, Reshape, Flatten, Input\n",
        "from tensorflow.keras.optimizers import Adam\n",
        "from tensorflow.keras.callbacks import LearningRateScheduler"
      ]
    },
    {
      "cell_type": "code",
      "execution_count": 3,
      "metadata": {
        "id": "lvQBM8nzq6m3"
      },
      "outputs": [],
      "source": [
        "# Create output directory for images\n",
        "if not os.path.exists(\"gan_images\"):\n",
        "    os.makedirs(\"gan_images\")\n",
        "\n",
        "# Load and preprocess the data\n",
        "def load_data():\n",
        "    (X_train, _), (_, _) = mnist.load_data()\n",
        "    # Normalize and reshape\n",
        "    X_train = X_train / 127.5 - 1.0\n",
        "    X_train = np.expand_dims(X_train, axis=3)\n",
        "    return X_train\n"
      ]
    },
    {
      "cell_type": "markdown",
      "metadata": {
        "id": "CYNw97GFryXF"
      },
      "source": [
        "## Generator Model"
      ]
    },
    {
      "cell_type": "code",
      "execution_count": 5,
      "metadata": {
        "id": "l-wW66i0r2qb"
      },
      "outputs": [],
      "source": [
        "def build_generator(latent_dim=100):\n",
        "    model = Sequential([\n",
        "        # First layer\n",
        "        Dense(256, input_dim=latent_dim),\n",
        "        LeakyReLU(alpha=0.2),\n",
        "        BatchNormalization(momentum=0.8),\n",
        "\n",
        "        # Second layer\n",
        "        Dense(512),\n",
        "        LeakyReLU(alpha=0.2),\n",
        "        BatchNormalization(momentum=0.8),\n",
        "\n",
        "        # Third layer\n",
        "        Dense(1024),\n",
        "        LeakyReLU(alpha=0.2),\n",
        "        BatchNormalization(momentum=0.8),\n",
        "\n",
        "        # Output layer\n",
        "        Dense(28*28*1, activation='tanh'),\n",
        "        Reshape((28, 28, 1))\n",
        "    ])\n",
        "\n",
        "    noise = Input(shape=(latent_dim,))\n",
        "    img = model(noise)\n",
        "\n",
        "    return Model(noise, img)"
      ]
    },
    {
      "cell_type": "markdown",
      "metadata": {
        "id": "sL7hFn94sECt"
      },
      "source": [
        "## Discriminator Model"
      ]
    },
    {
      "cell_type": "code",
      "execution_count": 6,
      "metadata": {
        "id": "CxxAEsvhsHUC"
      },
      "outputs": [],
      "source": [
        "# Build the discriminator network\n",
        "def build_discriminator(img_shape=(28, 28, 1)):\n",
        "    model = Sequential([\n",
        "        Flatten(input_shape=img_shape),\n",
        "        Dense(512),\n",
        "        LeakyReLU(alpha=0.2),\n",
        "\n",
        "        Dense(256),\n",
        "        LeakyReLU(alpha=0.2),\n",
        "\n",
        "        Dense(1, activation='sigmoid')\n",
        "    ])\n",
        "\n",
        "    img = Input(shape=img_shape)\n",
        "    validity = model(img)\n",
        "\n",
        "    return Model(img, validity)"
      ]
    },
    {
      "cell_type": "markdown",
      "metadata": {
        "id": "Shey2umcubqL"
      },
      "source": [
        "## Train Loop"
      ]
    },
    {
      "cell_type": "code",
      "execution_count": 8,
      "metadata": {
        "id": "rjU5_GoBum_a"
      },
      "outputs": [],
      "source": [
        "# Function to sample images and visualize them\n",
        "def sample_images(generator, epoch, latent_dim=100):\n",
        "    r, c = 5, 5\n",
        "    noise = np.random.normal(0, 1, (r * c, latent_dim))\n",
        "    gen_imgs = generator.predict(noise, verbose=0)\n",
        "\n",
        "    # Rescale images from [-1, 1] to [0, 1]\n",
        "    gen_imgs = 0.5 * gen_imgs + 0.5\n",
        "\n",
        "    fig, axs = plt.subplots(r, c, figsize=(15, 15))\n",
        "    cnt = 0\n",
        "    for i in range(r):\n",
        "        for j in range(c):\n",
        "            axs[i, j].imshow(gen_imgs[cnt, :, :, 0], cmap='gray')\n",
        "            axs[i, j].axis('off')\n",
        "            cnt += 1\n",
        "\n",
        "    fig.savefig(f\"gan_images/mnist_{epoch}.png\")\n",
        "    plt.close()"
      ]
    },
    {
      "cell_type": "code",
      "execution_count": 9,
      "metadata": {
        "id": "Pmf63yGtuTrb"
      },
      "outputs": [],
      "source": [
        "# Improved GAN training class using custom training loop\n",
        "class MNIST_GAN:\n",
        "    def __init__(self, latent_dim=100):\n",
        "        self.img_shape = (28, 28, 1)\n",
        "        self.latent_dim = latent_dim\n",
        "\n",
        "        # Build and compile discriminator\n",
        "        self.discriminator = build_discriminator(self.img_shape)\n",
        "        self.discriminator.compile(\n",
        "            optimizer=Adam(learning_rate=0.0002, beta_1=0.5),\n",
        "            loss='binary_crossentropy',\n",
        "            metrics=['accuracy']\n",
        "        )\n",
        "\n",
        "        # Build generator\n",
        "        self.generator = build_generator(self.latent_dim)\n",
        "\n",
        "        # For the combined model, we only train the generator\n",
        "        self.discriminator.trainable = False\n",
        "\n",
        "        # Build the combined model\n",
        "        z = Input(shape=(self.latent_dim,))\n",
        "        img = self.generator(z)\n",
        "        valid = self.discriminator(img)\n",
        "        self.combined = Model(z, valid)\n",
        "        self.combined.compile(\n",
        "            optimizer=Adam(learning_rate=0.0002, beta_1=0.5),\n",
        "            loss='binary_crossentropy'\n",
        "        )\n",
        "\n",
        "        # Initialize history\n",
        "        self.history = {\n",
        "            'd_loss': [], 'd_acc': [], 'g_loss': []\n",
        "        }\n",
        "\n",
        "    def train(self, X_train, epochs, batch_size, sample_interval=1000, save_interval=5000):\n",
        "        # Label smoothing values\n",
        "        real_label_value = 0.9\n",
        "        fake_label_value = 0.1\n",
        "\n",
        "        # Adversarial ground truths\n",
        "        valid = np.ones((batch_size//2, 1))\n",
        "        fake = np.zeros((batch_size//2, 1))\n",
        "\n",
        "        for epoch in range(epochs):\n",
        "            # ---------------------\n",
        "            #  Train Discriminator\n",
        "            # ---------------------\n",
        "\n",
        "            # Select a random half of images\n",
        "            idx = np.random.randint(0, X_train.shape[0], batch_size//2)\n",
        "            imgs = X_train[idx]\n",
        "\n",
        "            # Add noise to real images\n",
        "            imgs_noisy = imgs + np.random.normal(0, 0.1, imgs.shape)\n",
        "            imgs_noisy = np.clip(imgs_noisy, -1, 1)\n",
        "\n",
        "            # Sample noise and generate a half batch of new images\n",
        "            noise = np.random.normal(0, 1, (batch_size//2, self.latent_dim))\n",
        "            gen_imgs = self.generator.predict(noise, verbose=0)\n",
        "\n",
        "            # Apply label smoothing\n",
        "            valid_smooth = valid * real_label_value\n",
        "            fake_smooth = fake + fake_label_value\n",
        "\n",
        "            # Train the discriminator\n",
        "            d_loss_real = self.discriminator.train_on_batch(imgs_noisy, valid_smooth)\n",
        "            d_loss_fake = self.discriminator.train_on_batch(gen_imgs, fake_smooth)\n",
        "            d_loss = 0.5 * np.add(d_loss_real, d_loss_fake)\n",
        "\n",
        "            # ---------------------\n",
        "            #  Train Generator\n",
        "            # ---------------------\n",
        "\n",
        "            # Generate a batch of noise\n",
        "            noise = np.random.normal(0, 1, (batch_size, self.latent_dim))\n",
        "\n",
        "            # Train the generator\n",
        "            g_loss = self.combined.train_on_batch(noise, np.ones((batch_size, 1)) * real_label_value)\n",
        "\n",
        "            # Update history\n",
        "            self.history['d_loss'].append(d_loss[0])\n",
        "            self.history['d_acc'].append(d_loss[1])\n",
        "            self.history['g_loss'].append(g_loss)\n",
        "\n",
        "            # Print progress\n",
        "            print_interval = max(1, min(100, epochs // 20))\n",
        "            if epoch % print_interval == 0:\n",
        "                print(f\"Epoch {epoch}/{epochs} [D loss: {d_loss[0]:.4f}, acc: {100*d_loss[1]:.2f}%] [G loss: {g_loss:.4f}]\")\n",
        "\n",
        "            # Save sample images\n",
        "            if epoch % sample_interval == 0:\n",
        "                sample_images(self.generator, epoch, self.latent_dim)\n",
        "\n",
        "            # Save models\n",
        "            if epoch % save_interval == 0 and epoch > 0:\n",
        "                self.save_models(epoch)\n",
        "\n",
        "            # Learning rate decay (using callbacks would be cleaner but this works)\n",
        "            if epoch % 1000 == 0 and epoch > 0:\n",
        "                # Manually decay learning rates\n",
        "                d_lr = self.discriminator.optimizer.learning_rate.numpy()\n",
        "                g_lr = self.combined.optimizer.learning_rate.numpy()\n",
        "\n",
        "                # Apply decay factor\n",
        "                self.discriminator.optimizer.learning_rate = d_lr * 0.95\n",
        "                self.combined.optimizer.learning_rate = g_lr * 0.95\n",
        "\n",
        "    def save_models(self, epoch):\n",
        "        self.generator.save(f\"generator_epoch_{epoch}.keras\")\n",
        "        self.discriminator.save(f\"discriminator_epoch_{epoch}.keras\")\n",
        "\n",
        "    def plot_history(self):\n",
        "        plt.figure(figsize=(12, 5))\n",
        "\n",
        "        # Plot discriminator metrics\n",
        "        plt.subplot(1, 2, 1)\n",
        "        plt.plot(self.history['d_loss'], label='Discriminator Loss')\n",
        "        plt.plot(self.history['d_acc'], label='Discriminator Accuracy')\n",
        "        plt.title('Discriminator Performance')\n",
        "        plt.xlabel('Epoch')\n",
        "        plt.legend()\n",
        "\n",
        "        # Plot generator loss\n",
        "        plt.subplot(1, 2, 2)\n",
        "        plt.plot(self.history['g_loss'], label='Generator Loss')\n",
        "        plt.title('Generator Performance')\n",
        "        plt.xlabel('Epoch')\n",
        "        plt.legend()\n",
        "\n",
        "        plt.tight_layout()\n",
        "        plt.savefig('gan_training_history.png')\n",
        "        plt.show()"
      ]
    },
    {
      "cell_type": "markdown",
      "metadata": {
        "id": "XlcVL1T4uw5D"
      },
      "source": [
        "## Lift off>>>>>"
      ]
    },
    {
      "cell_type": "code",
      "execution_count": 10,
      "metadata": {
        "colab": {
          "base_uri": "https://localhost:8080/"
        },
        "id": "9_Td7jvlu09D",
        "outputId": "eb63f4c2-ad19-4486-d97c-744e4fed6c37"
      },
      "outputs": [
        {
          "name": "stdout",
          "output_type": "stream",
          "text": [
            "Downloading data from https://storage.googleapis.com/tensorflow/tf-keras-datasets/mnist.npz\n",
            "11493376/11490434 [==============================] - 2s 0us/step\n",
            "Epoch 0/5000 [D loss: 0.8837, acc: 0.00%] [G loss: 0.8886]\n",
            "Epoch 100/5000 [D loss: 0.3318, acc: 0.00%] [G loss: 1.9608]\n",
            "Epoch 200/5000 [D loss: 0.3304, acc: 0.00%] [G loss: 2.1073]\n",
            "Epoch 300/5000 [D loss: 0.3723, acc: 0.00%] [G loss: 2.0187]\n",
            "Epoch 400/5000 [D loss: 0.4036, acc: 0.00%] [G loss: 1.5588]\n",
            "Epoch 500/5000 [D loss: 0.6851, acc: 0.00%] [G loss: 1.1659]\n",
            "Epoch 600/5000 [D loss: 0.7212, acc: 0.00%] [G loss: 0.7188]\n",
            "Epoch 700/5000 [D loss: 0.6616, acc: 0.00%] [G loss: 0.7623]\n",
            "Epoch 800/5000 [D loss: 0.6169, acc: 0.00%] [G loss: 0.7784]\n",
            "Epoch 900/5000 [D loss: 0.6613, acc: 0.00%] [G loss: 0.7602]\n",
            "Epoch 1000/5000 [D loss: 0.6923, acc: 0.00%] [G loss: 0.8204]\n",
            "Epoch 1100/5000 [D loss: 0.6769, acc: 0.00%] [G loss: 0.7947]\n",
            "Epoch 1200/5000 [D loss: 0.6218, acc: 0.00%] [G loss: 0.8184]\n",
            "Epoch 1300/5000 [D loss: 0.6465, acc: 0.00%] [G loss: 0.8617]\n",
            "Epoch 1400/5000 [D loss: 0.6181, acc: 0.00%] [G loss: 0.7848]\n",
            "Epoch 1500/5000 [D loss: 0.6890, acc: 0.00%] [G loss: 0.7948]\n",
            "Epoch 1600/5000 [D loss: 0.5734, acc: 0.00%] [G loss: 0.8162]\n",
            "Epoch 1700/5000 [D loss: 0.7212, acc: 0.00%] [G loss: 0.7973]\n",
            "Epoch 1800/5000 [D loss: 0.6175, acc: 0.00%] [G loss: 0.9023]\n",
            "Epoch 1900/5000 [D loss: 0.6111, acc: 0.00%] [G loss: 0.8934]\n",
            "Epoch 2000/5000 [D loss: 0.5906, acc: 0.00%] [G loss: 0.8674]\n",
            "Epoch 2100/5000 [D loss: 0.6405, acc: 0.00%] [G loss: 0.9108]\n",
            "Epoch 2200/5000 [D loss: 0.6147, acc: 0.00%] [G loss: 0.8825]\n",
            "Epoch 2300/5000 [D loss: 0.6401, acc: 0.00%] [G loss: 0.8400]\n",
            "Epoch 2400/5000 [D loss: 0.6239, acc: 0.00%] [G loss: 0.8605]\n",
            "Epoch 2500/5000 [D loss: 0.6529, acc: 0.00%] [G loss: 0.8307]\n",
            "Epoch 2600/5000 [D loss: 0.6445, acc: 0.00%] [G loss: 0.8375]\n",
            "Epoch 2700/5000 [D loss: 0.6961, acc: 0.00%] [G loss: 0.8031]\n",
            "Epoch 2800/5000 [D loss: 0.7050, acc: 0.00%] [G loss: 0.8330]\n",
            "Epoch 2900/5000 [D loss: 0.6696, acc: 0.00%] [G loss: 0.8314]\n",
            "Epoch 3000/5000 [D loss: 0.7067, acc: 0.00%] [G loss: 0.8782]\n",
            "Epoch 3100/5000 [D loss: 0.6373, acc: 0.00%] [G loss: 0.8549]\n",
            "Epoch 3200/5000 [D loss: 0.7257, acc: 0.00%] [G loss: 0.8250]\n",
            "Epoch 3300/5000 [D loss: 0.5725, acc: 0.00%] [G loss: 0.9177]\n",
            "Epoch 3400/5000 [D loss: 0.6920, acc: 0.00%] [G loss: 0.8960]\n",
            "Epoch 3500/5000 [D loss: 0.6072, acc: 0.00%] [G loss: 0.7959]\n",
            "Epoch 3600/5000 [D loss: 0.6338, acc: 0.00%] [G loss: 0.8008]\n",
            "Epoch 3700/5000 [D loss: 0.6693, acc: 0.00%] [G loss: 0.8741]\n",
            "Epoch 3800/5000 [D loss: 0.6734, acc: 0.00%] [G loss: 0.8215]\n",
            "Epoch 3900/5000 [D loss: 0.6997, acc: 0.00%] [G loss: 0.8850]\n",
            "Epoch 4000/5000 [D loss: 0.6642, acc: 0.00%] [G loss: 0.8120]\n",
            "Epoch 4100/5000 [D loss: 0.6553, acc: 0.00%] [G loss: 0.8526]\n",
            "Epoch 4200/5000 [D loss: 0.7188, acc: 0.00%] [G loss: 0.8554]\n",
            "Epoch 4300/5000 [D loss: 0.6082, acc: 0.00%] [G loss: 0.8680]\n",
            "Epoch 4400/5000 [D loss: 0.6726, acc: 0.00%] [G loss: 0.8255]\n",
            "Epoch 4500/5000 [D loss: 0.6190, acc: 0.00%] [G loss: 0.8465]\n",
            "Epoch 4600/5000 [D loss: 0.6215, acc: 0.00%] [G loss: 0.7657]\n",
            "Epoch 4700/5000 [D loss: 0.7082, acc: 0.00%] [G loss: 0.8753]\n",
            "Epoch 4800/5000 [D loss: 0.6694, acc: 0.00%] [G loss: 0.8477]\n",
            "Epoch 4900/5000 [D loss: 0.6543, acc: 0.00%] [G loss: 0.8133]\n"
          ]
        },
        {
          "data": {
            "image/png": "[encoded data removed]",
            "text/plain": [
              "<Figure size 864x360 with 2 Axes>"
            ]
          },
          "metadata": {
            "needs_background": "light"
          },
          "output_type": "display_data"
        },
        {
          "name": "stdout",
          "output_type": "stream",
          "text": [
            "GAN training complete!\n"
          ]
        }
      ],
      "source": [
        "# Main execution\n",
        "if __name__ == \"__main__\":\n",
        "    # Load data\n",
        "    X_train = load_data()\n",
        "\n",
        "    # Initialize GAN\n",
        "    gan = MNIST_GAN(latent_dim=100)\n",
        "\n",
        "    # Training parameters\n",
        "    epochs = 5000\n",
        "    batch_size = 32\n",
        "    sample_interval = 500\n",
        "    save_interval = 1000\n",
        "\n",
        "    # Train the GAN\n",
        "    gan.train(\n",
        "        X_train=X_train,\n",
        "        epochs=epochs,\n",
        "        batch_size=batch_size,\n",
        "        sample_interval=sample_interval,\n",
        "        save_interval=save_interval\n",
        "    )\n",
        "\n",
        "    # Plot training history\n",
        "    gan.plot_history()\n",
        "\n",
        "    # Generate final images\n",
        "    sample_images(gan.generator, \"final\")\n",
        "\n",
        "    # Save final models\n",
        "    gan.generator.save(\"generator_final.keras\")\n",
        "    gan.discriminator.save(\"discriminator_final.keras\")\n",
        "\n",
        "    print(\"GAN training complete!\")"
      ]
    }
  ],
  "metadata": {
    "accelerator": "GPU",
    "colab": {
      "gpuType": "T4",
      "provenance": []
    },
    "kernelspec": {
      "display_name": "base",
      "language": "python",
      "name": "python3"
    },
    "language_info": {
      "codemirror_mode": {
        "name": "ipython",
        "version": 3
      },
      "file_extension": ".py",
      "mimetype": "text/x-python",
      "name": "python",
      "nbconvert_exporter": "python",
      "pygments_lexer": "ipython3",
      "version": "3.8.8"
    }
  },
  "nbformat": 4,
  "nbformat_minor": 0
}
