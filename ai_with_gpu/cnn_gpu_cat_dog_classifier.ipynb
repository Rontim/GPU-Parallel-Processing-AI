{
 "cells": [
  {
   "cell_type": "markdown",
   "id": "7bf944e8-966e-47a5-a7a9-0544ca5fa609",
   "metadata": {},
   "source": [
    "# CNN on GPU: Cat vs Dog Classifier\n",
    "> A lightweight yet GPU-intensive demo to show off parallelism, filters, and fast training"
   ]
  },
  {
   "cell_type": "markdown",
   "id": "4fe41b85-53f4-4d81-9f98-6aa87b33e2cb",
   "metadata": {},
   "source": [
    "## Goal\n",
    "Train a Convolutional Neural Network (CNN) to classify images of cats vs dogs using GPU acceleration. This helps showcase:\n",
    "- The parallel nature of convolutions.\n",
    "- How GPUs drastically reduce training time.\n",
    "- Visual understanding of filters and feature maps."
   ]
  },
  {
   "cell_type": "markdown",
   "id": "1c065990-913c-4c94-9ec0-850681627ad1",
   "metadata": {},
   "source": [
    "## Dataset\n",
    "Use TensorFlow’s *cats_vs_dogs* dataset:"
   ]
  },
  {
   "cell_type": "code",
   "execution_count": 1,
   "id": "c1040f8e-082f-4ecd-bbea-a093ce7cd98c",
   "metadata": {},
   "outputs": [
    {
     "ename": "ModuleNotFoundError",
     "evalue": "No module named 'tensorflow_datasets'",
     "output_type": "error",
     "traceback": [
      "\u001b[0;31m---------------------------------------------------------------------------\u001b[0m",
      "\u001b[0;31mModuleNotFoundError\u001b[0m                       Traceback (most recent call last)",
      "Cell \u001b[0;32mIn[1], line 1\u001b[0m\n\u001b[0;32m----> 1\u001b[0m \u001b[38;5;28;01mimport\u001b[39;00m \u001b[38;5;21;01mtensorflow_datasets\u001b[39;00m \u001b[38;5;28;01mas\u001b[39;00m \u001b[38;5;21;01mtfds\u001b[39;00m\n\u001b[1;32m      2\u001b[0m (train_ds, val_ds), ds_info \u001b[38;5;241m=\u001b[39m tfds\u001b[38;5;241m.\u001b[39mload(\n\u001b[1;32m      3\u001b[0m     \u001b[38;5;124m'\u001b[39m\u001b[38;5;124mcats_vs_dogs\u001b[39m\u001b[38;5;124m'\u001b[39m,\n\u001b[1;32m      4\u001b[0m     split\u001b[38;5;241m=\u001b[39m[\u001b[38;5;124m'\u001b[39m\u001b[38;5;124mtrain[:80\u001b[39m\u001b[38;5;124m%\u001b[39m\u001b[38;5;124m]\u001b[39m\u001b[38;5;124m'\u001b[39m, \u001b[38;5;124m'\u001b[39m\u001b[38;5;124mtrain[80\u001b[39m\u001b[38;5;124m%\u001b[39m\u001b[38;5;124m:]\u001b[39m\u001b[38;5;124m'\u001b[39m],\n\u001b[1;32m      5\u001b[0m     with_info\u001b[38;5;241m=\u001b[39m\u001b[38;5;28;01mTrue\u001b[39;00m,\n\u001b[1;32m      6\u001b[0m     as_supervised\u001b[38;5;241m=\u001b[39m\u001b[38;5;28;01mTrue\u001b[39;00m,\n\u001b[1;32m      7\u001b[0m )\n",
      "\u001b[0;31mModuleNotFoundError\u001b[0m: No module named 'tensorflow_datasets'"
     ]
    }
   ],
   "source": [
    "import tensorflow_datasets as tfds\n",
    "(train_ds, val_ds), ds_info = tfds.load(\n",
    "    'cats_vs_dogs',\n",
    "    split=['train[:80%]', 'train[80%:]'],\n",
    "    with_info=True,\n",
    "    as_supervised=True,\n",
    ")"
   ]
  },
  {
   "cell_type": "markdown",
   "id": "178d4e15-eb25-4779-9cd3-c68a757e954b",
   "metadata": {},
   "source": [
    "## Preprocessing\n",
    "Resize and normalize for better training:"
   ]
  },
  {
   "cell_type": "code",
   "execution_count": null,
   "id": "17afc257-3caf-4521-9156-36e29c1352c6",
   "metadata": {},
   "outputs": [],
   "source": [
    "import tensorflow as tf\n",
    "\n",
    "IMG_SIZE = 128\n",
    "\n",
    "def format_image(image, label):\n",
    "    image = tf.image.resize(image, (IMG_SIZE, IMG_SIZE))\n",
    "    image = image / 255.0\n",
    "    return image, label\n",
    "\n",
    "train = train_ds.map(format_image).batch(32).prefetch(1)\n",
    "val = val_ds.map(format_image).batch(32).prefetch(1)"
   ]
  }
 ],
 "metadata": {
  "kernelspec": {
   "display_name": "Python 3 (ipykernel)",
   "language": "python",
   "name": "python3"
  },
  "language_info": {
   "codemirror_mode": {
    "name": "ipython",
    "version": 3
   },
   "file_extension": ".py",
   "mimetype": "text/x-python",
   "name": "python",
   "nbconvert_exporter": "python",
   "pygments_lexer": "ipython3",
   "version": "3.12.7"
  }
 },
 "nbformat": 4,
 "nbformat_minor": 5
}
